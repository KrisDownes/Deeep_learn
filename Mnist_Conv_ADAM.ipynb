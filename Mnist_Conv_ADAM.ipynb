{
 "cells": [
  {
   "cell_type": "code",
   "execution_count": 1,
   "id": "5f5500bf",
   "metadata": {},
   "outputs": [
    {
     "name": "stdout",
     "output_type": "stream",
     "text": [
      "Populating the interactive namespace from numpy and matplotlib\n"
     ]
    }
   ],
   "source": [
    "%pylab inline\n",
    "import os \n",
    "import sys\n",
    "from tqdm import trange"
   ]
  },
  {
   "cell_type": "code",
   "execution_count": 2,
   "id": "574482d5",
   "metadata": {},
   "outputs": [],
   "source": [
    "import numpy as np \n",
    "import requests\n",
    "fp = \"C:\\tmp\"\n",
    "def fetch(url):\n",
    "    import requests, gzip\n",
    "    if os.path.isfile(fp):\n",
    "        with open(fp, \"rb\") as f:\n",
    "              file = f.read()\n",
    "    else:\n",
    "        with gzip.open(r'fp','wb') as f:\n",
    "            file = requests.get(url).content\n",
    "            f.write(file)\n",
    "    return np.frombuffer(gzip.decompress(file), dtype = np.uint8)\n",
    "x_train = fetch('http://yann.lecun.com/exdb/mnist/train-images-idx3-ubyte.gz')[16:].reshape(60000,28,28)\n",
    "y_train = fetch('http://yann.lecun.com/exdb/mnist/train-labels-idx1-ubyte.gz')[8:]\n",
    "x_test = fetch('http://yann.lecun.com/exdb/mnist/t10k-images-idx3-ubyte.gz')[16:].reshape(-1,28,28)\n",
    "y_test = fetch('http://yann.lecun.com/exdb/mnist/t10k-labels-idx1-ubyte.gz')[8:]"
   ]
  },
  {
   "cell_type": "code",
   "execution_count": 21,
   "id": "f183b6e6",
   "metadata": {},
   "outputs": [],
   "source": [
    "\n",
    "import torch \n",
    "import torch.nn as nn\n",
    "import torch.nn.functional as F\n",
    "class ConvNet(nn.Module):\n",
    "    def __init__(self):\n",
    "        super(ConvNet,self).__init__()\n",
    "        self.conv1 = nn.Conv2d(1,32,kernel_size=3,padding=1)\n",
    "        self.conv2 = nn.Conv2d(32,64,kernel_size=3,padding=1)\n",
    "        self.max_pool2d = torch.nn.MaxPool2d(kernel_size=2, stride=2)\n",
    "        self.linear_1 = torch.nn.Linear(7 * 7 * 64, 128)\n",
    "        self.linear_2 = torch.nn.Linear(128, 10)\n",
    "        self.dropout = torch.nn.Dropout(p=0.5)\n",
    "        \n",
    "        \n",
    "    def forward(self,x):\n",
    "        x = F.relu(self.conv1(x))\n",
    "        x = self.max_pool2d(x)\n",
    "        x = F.relu(self.conv2(x))\n",
    "        x = self.max_pool2d(x)\n",
    "        x = x.reshape(x.shape[0],-1)\n",
    "        x = self.linear_1(x)\n",
    "        x = self.dropout(x)\n",
    "        return self.linear_2(x)\n",
    "        \n",
    "        "
   ]
  },
  {
   "cell_type": "code",
   "execution_count": 31,
   "id": "d2e5c95f",
   "metadata": {},
   "outputs": [],
   "source": [
    "model = ConvNet()\n",
    "optimizer = torch.optim.Adam(model.parameters(), lr=0.001)\n",
    "loss_func = torch.nn.CrossEntropyLoss()"
   ]
  },
  {
   "cell_type": "code",
   "execution_count": 36,
   "id": "0c334d73",
   "metadata": {},
   "outputs": [
    {
     "name": "stderr",
     "output_type": "stream",
     "text": [
      "loss 0.03 accuracy 0.99: 100%|█████████████████████████████████████████████████████| 1000/1000 [01:12<00:00, 13.80it/s]\n"
     ]
    },
    {
     "data": {
      "text/plain": [
       "[<matplotlib.lines.Line2D at 0x16447526280>]"
      ]
     },
     "execution_count": 36,
     "metadata": {},
     "output_type": "execute_result"
    },
    {
     "data": {
      "image/png": "[encoded data removed]",
      "text/plain": [
       "<Figure size 432x288 with 1 Axes>"
      ]
     },
     "metadata": {
      "needs_background": "light"
     },
     "output_type": "display_data"
    }
   ],
   "source": [
    "BS = 132\n",
    "losses , acc = [],[]\n",
    "for i in(t := trange(1000)):\n",
    "    rand = np.random.randint(0, x_train.shape[0], size=(BS))\n",
    "    X =torch.tensor(x_train[rand]).unsqueeze(1).float()\n",
    "    Y = torch.tensor(y_train[rand]).long()\n",
    "    optimizer.zero_grad()\n",
    "    out = model(X)\n",
    "    cat = torch.argmax(out,dim=1)\n",
    "    accuracy = (cat == Y).float().mean()\n",
    "    loss = loss_func(out, Y)\n",
    "    loss = loss.mean()\n",
    "    loss.backward()\n",
    "    optimizer.step()\n",
    "    loss, accuracy = loss.item(), accuracy.item()\n",
    "    losses.append(loss)\n",
    "    acc.append(accuracy)\n",
    "    t.set_description(\"loss %.2f accuracy %.2f\" % (loss, accuracy))\n",
    "\n",
    "plt.ylim(-0.1, 1.1)\n",
    "plot(losses)\n",
    "plot(acc)    "
   ]
  },
  {
   "cell_type": "code",
   "execution_count": 37,
   "id": "61dbbe5b",
   "metadata": {},
   "outputs": [
    {
     "data": {
      "text/plain": [
       "0.9817"
      ]
     },
     "execution_count": 37,
     "metadata": {},
     "output_type": "execute_result"
    }
   ],
   "source": [
    "Y_test_preds = torch.argmax(model(torch.tensor(x_test).unsqueeze(1).float()),dim=1).numpy()\n",
    "(y_test == Y_test_preds).mean()"
   ]
  }
 ],
 "metadata": {
  "kernelspec": {
   "display_name": "Python 3",
   "language": "python",
   "name": "python3"
  },
  "language_info": {
   "codemirror_mode": {
    "name": "ipython",
    "version": 3
   },
   "file_extension": ".py",
   "mimetype": "text/x-python",
   "name": "python",
   "nbconvert_exporter": "python",
   "pygments_lexer": "ipython3",
   "version": "3.8.8"
  }
 },
 "nbformat": 4,
 "nbformat_minor": 5
}
